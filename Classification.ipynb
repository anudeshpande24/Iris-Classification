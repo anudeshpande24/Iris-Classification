import pandas as pd
from sklearn.datasets import load_iris
iris = load_iris()
iris.feature_names
iris.target_names
df=pd.DataFrame(iris.data, columns=iris.feature_names)
df.head()
df['target']=iris.target
df0=df[:50]
df1=df[50:100]
df2=df[100:]
import matplotlib.pyplot as plt
plt.scatter(df0['sepal length (cm)'], df0['sepal width (cm)'], color="blue", marker='.')
plt.scatter(df1['sepal length (cm)'], df1['sepal width (cm)'], color="green", marker='*')
from sklearn.model_selection import train_test_split
x=df.iloc[:,1:3001]
x=df.drop(['target'], axis='columns')
y=df.target
x_train,x_test,y_train,y_test=train_test_split(x,y,test_size=0.2, random_state=2)
from sklearn.svm import SVC
model=SVC()
model.fit(x_train, y_train)
model.score(x_test, y_test)
